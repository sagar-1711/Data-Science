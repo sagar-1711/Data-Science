{
 "cells": [
  {
   "cell_type": "code",
   "execution_count": 1,
   "metadata": {},
   "outputs": [],
   "source": [
    "import cv2\n",
    "img=cv2.imread('F:\\Data Science\\Project-Face Recognition\\mountain.jpg')\n",
    "grayImg=cv2.imread('F:\\Data Science\\Project-Face Recognition\\mountain.jpg',cv2.IMREAD_GRAYSCALE)\n",
    "cv2.imshow('Mountain Image',img)\n",
    "cv2.imshow('Gray Mountain Image',grayImg)\n",
    "cv2.waitKey(0) #0 means wait for infinite time if cv2.waitkey(25) means close after 25ms\n",
    "cv2.destroyAllWindows()\n",
    "#we have to run this program from cmd"
   ]
  },
  {
   "cell_type": "code",
   "execution_count": 2,
   "metadata": {},
   "outputs": [],
   "source": []
  },
  {
   "cell_type": "code",
   "execution_count": 3,
   "metadata": {},
   "outputs": [],
   "source": []
  },
  {
   "cell_type": "code",
   "execution_count": null,
   "metadata": {},
   "outputs": [],
   "source": []
  }
 ],
 "metadata": {
  "kernelspec": {
   "display_name": "Python 3",
   "language": "python",
   "name": "python3"
  },
  "language_info": {
   "codemirror_mode": {
    "name": "ipython",
    "version": 3
   },
   "file_extension": ".py",
   "mimetype": "text/x-python",
   "name": "python",
   "nbconvert_exporter": "python",
   "pygments_lexer": "ipython3",
   "version": "3.7.3"
  }
 },
 "nbformat": 4,
 "nbformat_minor": 2
}
