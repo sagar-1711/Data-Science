{
 "cells": [
  {
   "cell_type": "markdown",
   "metadata": {},
   "source": [
    "# Matrix Multiplication\n"
   ]
  },
  {
   "cell_type": "code",
   "execution_count": 1,
   "metadata": {},
   "outputs": [
    {
     "name": "stdout",
     "output_type": "stream",
     "text": [
      "[[ 4  5  7]\n",
      " [10 11 13]\n",
      " [56 80 90]]\n",
      "[[ 40  50  70]\n",
      " [100 110 130]\n",
      " [560 800 900]]\n"
     ]
    }
   ],
   "source": [
    "import numpy as np\n",
    "X=np.array([[4,5,7],[10,11,13],[56,80,90]])\n",
    "Y=np.array([[40,50,70],[100,110,130],[560,800,900]])\n",
    "print(X)\n",
    "print(Y)"
   ]
  },
  {
   "cell_type": "code",
   "execution_count": 2,
   "metadata": {},
   "outputs": [
    {
     "name": "stdout",
     "output_type": "stream",
     "text": [
      "[[ 4580  6350  7230]\n",
      " [ 8780 12110 13830]\n",
      " [60640 83600 95320]]\n"
     ]
    }
   ],
   "source": [
    "prod=np.dot(X,Y)\n",
    "print(prod)"
   ]
  },
  {
   "cell_type": "markdown",
   "metadata": {},
   "source": [
    "# ElementWise Multiplication: Hadmard product"
   ]
  },
  {
   "cell_type": "code",
   "execution_count": 4,
   "metadata": {},
   "outputs": [
    {
     "name": "stdout",
     "output_type": "stream",
     "text": [
      "[[ 4  5  7]\n",
      " [10 11 13]\n",
      " [56 80 90]]\n",
      "[[ 40  50  70]\n",
      " [100 110 130]\n",
      " [560 800 900]]\n",
      "[[  160   250   490]\n",
      " [ 1000  1210  1690]\n",
      " [31360 64000 81000]]\n"
     ]
    }
   ],
   "source": [
    "X=np.array([[4,5,7],[10,11,13],[56,80,90]])\n",
    "Y=np.array([[40,50,70],[100,110,130],[560,800,900]])\n",
    "print(X)\n",
    "print(Y)\n",
    "print(X*Y)"
   ]
  },
  {
   "cell_type": "markdown",
   "metadata": {},
   "source": [
    "# Norm of a vector"
   ]
  },
  {
   "cell_type": "code",
   "execution_count": 6,
   "metadata": {},
   "outputs": [],
   "source": [
    "# can be considered as size of a vector\n",
    "# x=[x1 x2 x3]\n",
    "# L^p norm= (x1^p + x2^p + x3^p)^(1/p)\n",
    "# if vector is 0 then its norm=0\n",
    "# if we multiply a vector by a scalar then norm also gets multiplied by scalar\n",
    "# L2 norm is also known as Euclidean norm, also denoted by ||x||\n",
    "# L1 norm is the absolute sum of members of vector\n",
    "# Linfinity norm-> absolute value of the largest element\n"
   ]
  },
  {
   "cell_type": "code",
   "execution_count": 7,
   "metadata": {},
   "outputs": [
    {
     "name": "stdout",
     "output_type": "stream",
     "text": [
      "11.575836902790225\n"
     ]
    }
   ],
   "source": [
    "x=np.array([-5,3,10])\n",
    "#by default L2 norm\n",
    "lp2=np.linalg.norm(x)\n",
    "print(lp2)"
   ]
  },
  {
   "cell_type": "code",
   "execution_count": 8,
   "metadata": {},
   "outputs": [
    {
     "name": "stdout",
     "output_type": "stream",
     "text": [
      "18.0\n"
     ]
    }
   ],
   "source": [
    "x=np.array([-5,3,10])\n",
    "# L1 norm\n",
    "lp1=np.linalg.norm(x,ord=1)\n",
    "print(lp1)"
   ]
  },
  {
   "cell_type": "code",
   "execution_count": 9,
   "metadata": {},
   "outputs": [
    {
     "name": "stdout",
     "output_type": "stream",
     "text": [
      "10.0\n"
     ]
    }
   ],
   "source": [
    "# Linfinity norm\n",
    "x=np.array([-5,3,10])\n",
    "lpinf=np.linalg.norm(x,ord=np.inf)\n",
    "print(lpinf)"
   ]
  },
  {
   "cell_type": "code",
   "execution_count": 10,
   "metadata": {},
   "outputs": [
    {
     "name": "stdout",
     "output_type": "stream",
     "text": [
      "15.0\n"
     ]
    }
   ],
   "source": [
    "# Linfinity norm\n",
    "x=np.array([-15,3,10])\n",
    "lpinf=np.linalg.norm(x,ord=np.inf)\n",
    "print(lpinf)"
   ]
  },
  {
   "cell_type": "code",
   "execution_count": null,
   "metadata": {},
   "outputs": [],
   "source": []
  }
 ],
 "metadata": {
  "kernelspec": {
   "display_name": "Python 3",
   "language": "python",
   "name": "python3"
  },
  "language_info": {
   "codemirror_mode": {
    "name": "ipython",
    "version": 3
   },
   "file_extension": ".py",
   "mimetype": "text/x-python",
   "name": "python",
   "nbconvert_exporter": "python",
   "pygments_lexer": "ipython3",
   "version": "3.7.3"
  }
 },
 "nbformat": 4,
 "nbformat_minor": 2
}
