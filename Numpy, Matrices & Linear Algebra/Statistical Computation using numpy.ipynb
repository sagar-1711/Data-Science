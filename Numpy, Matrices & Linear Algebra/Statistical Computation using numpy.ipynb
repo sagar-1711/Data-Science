{
 "cells": [
  {
   "cell_type": "markdown",
   "metadata": {},
   "source": [
    "\n",
    "Some More Numpy Functions - Statistics\n",
    "\n",
    "    -min,max\n",
    "    -mean\n",
    "    -median\n",
    "    -average\n",
    "    -variance\n",
    "    -standard devidation\n",
    "\n"
   ]
  },
  {
   "cell_type": "code",
   "execution_count": 4,
   "metadata": {},
   "outputs": [],
   "source": [
    "import numpy as np"
   ]
  },
  {
   "cell_type": "code",
   "execution_count": 6,
   "metadata": {},
   "outputs": [
    {
     "name": "stdout",
     "output_type": "stream",
     "text": [
      "[[1 2 3 4]\n",
      " [7 6 2 0]]\n",
      "0\n",
      "[1 2 2 0]\n"
     ]
    }
   ],
   "source": [
    "a=np.array([[1,2,3,4],[7,6,2,0]])\n",
    "print(a)\n",
    "print(np.min(a))\n",
    "#Specify axis for the direction in case of multidimensional array\n",
    "print(np.min(a,axis=0))"
   ]
  },
  {
   "cell_type": "code",
   "execution_count": 7,
   "metadata": {},
   "outputs": [
    {
     "name": "stdout",
     "output_type": "stream",
     "text": [
      "[1 0]\n"
     ]
    }
   ],
   "source": [
    "print(np.min(a,axis=1))"
   ]
  },
  {
   "cell_type": "code",
   "execution_count": 9,
   "metadata": {},
   "outputs": [
    {
     "name": "stdout",
     "output_type": "stream",
     "text": [
      "3.0\n",
      "3.0\n"
     ]
    }
   ],
   "source": [
    "#mean->average of all elements\n",
    "b=np.array([1,2,3,4,5])\n",
    "m=sum(b)/5\n",
    "print(m)\n",
    "print(np.mean(b))"
   ]
  },
  {
   "cell_type": "code",
   "execution_count": 12,
   "metadata": {},
   "outputs": [
    {
     "name": "stdout",
     "output_type": "stream",
     "text": [
      "[[1 2 3 4]\n",
      " [7 6 2 0]]\n"
     ]
    }
   ],
   "source": [
    "a=np.array([[1,2,3,4],[7,6,2,0]])\n",
    "print(a)"
   ]
  },
  {
   "cell_type": "code",
   "execution_count": 13,
   "metadata": {},
   "outputs": [
    {
     "name": "stdout",
     "output_type": "stream",
     "text": [
      "[4.  4.  2.5 2. ]\n",
      "[2.5  3.75]\n"
     ]
    }
   ],
   "source": [
    "print(np.mean(a,axis=0))\n",
    "print(np.mean(a,axis=1))\n"
   ]
  },
  {
   "cell_type": "code",
   "execution_count": 15,
   "metadata": {},
   "outputs": [
    {
     "name": "stdout",
     "output_type": "stream",
     "text": [
      "2.0\n"
     ]
    }
   ],
   "source": [
    "c=np.array([1,5,4,2,0])\n",
    "print(np.median(c))"
   ]
  },
  {
   "cell_type": "code",
   "execution_count": 16,
   "metadata": {},
   "outputs": [
    {
     "name": "stdout",
     "output_type": "stream",
     "text": [
      "2.4\n"
     ]
    }
   ],
   "source": [
    "#Mean vs Average(weighted)\n",
    "print(np.mean(c))"
   ]
  },
  {
   "cell_type": "code",
   "execution_count": 18,
   "metadata": {},
   "outputs": [
    {
     "name": "stdout",
     "output_type": "stream",
     "text": [
      "2.066666666666667\n"
     ]
    }
   ],
   "source": [
    "#Average\n",
    "wt=np.array([1,2,3,4,5])\n",
    "print(np.average(c,weights=wt))"
   ]
  },
  {
   "cell_type": "code",
   "execution_count": 19,
   "metadata": {},
   "outputs": [
    {
     "name": "stdout",
     "output_type": "stream",
     "text": [
      "2.4\n"
     ]
    }
   ],
   "source": [
    "#if weigths =1 ,then mean =avg\n",
    "wt=np.array([1,1,1,1,1])\n",
    "print(np.average(c,weights=wt))"
   ]
  },
  {
   "cell_type": "code",
   "execution_count": 20,
   "metadata": {},
   "outputs": [
    {
     "name": "stdout",
     "output_type": "stream",
     "text": [
      "1.854723699099141\n"
     ]
    }
   ],
   "source": [
    "#Standard deviation\n",
    "u=np.mean(c)\n",
    "myStd=np.sqrt(np.mean(abs(c-u)**2))\n",
    "print(myStd)"
   ]
  },
  {
   "cell_type": "code",
   "execution_count": 22,
   "metadata": {},
   "outputs": [
    {
     "name": "stdout",
     "output_type": "stream",
     "text": [
      "1.854723699099141\n"
     ]
    }
   ],
   "source": [
    "dev=np.std(c)\n",
    "print(dev)"
   ]
  },
  {
   "cell_type": "code",
   "execution_count": 24,
   "metadata": {},
   "outputs": [
    {
     "name": "stdout",
     "output_type": "stream",
     "text": [
      "3.440000000000001\n",
      "3.4400000000000004\n"
     ]
    }
   ],
   "source": [
    "#variance\n",
    "print(myStd**2)\n",
    "print(np.var(c))"
   ]
  },
  {
   "cell_type": "code",
   "execution_count": null,
   "metadata": {},
   "outputs": [],
   "source": []
  }
 ],
 "metadata": {
  "kernelspec": {
   "display_name": "Python 3",
   "language": "python",
   "name": "python3"
  },
  "language_info": {
   "codemirror_mode": {
    "name": "ipython",
    "version": 3
   },
   "file_extension": ".py",
   "mimetype": "text/x-python",
   "name": "python",
   "nbconvert_exporter": "python",
   "pygments_lexer": "ipython3",
   "version": "3.7.3"
  }
 },
 "nbformat": 4,
 "nbformat_minor": 2
}
