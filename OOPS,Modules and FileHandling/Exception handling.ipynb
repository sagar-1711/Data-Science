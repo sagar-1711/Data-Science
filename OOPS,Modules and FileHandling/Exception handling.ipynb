{
 "cells": [
  {
   "cell_type": "code",
   "execution_count": 1,
   "metadata": {},
   "outputs": [],
   "source": [
    "#Error while code execution\n",
    "try:\n",
    "    f=open(\"SomeFile.txt\",\"r\")\n",
    "except:\n",
    "    print(\"Something went wrong\")"
   ]
  },
  {
   "cell_type": "code",
   "execution_count": 2,
   "metadata": {},
   "outputs": [
    {
     "name": "stdout",
     "output_type": "stream",
     "text": [
      "File Doesn't exist,Please reupload\n"
     ]
    }
   ],
   "source": [
    "#we can hacve multiple except \n",
    "try:\n",
    "    f=open(\"SomeFile.txt\",\"r\")\n",
    "except FileNotFoundError:\n",
    "    print(\"File Doesn't exist,Please reupload\")\n",
    "except Exception:\n",
    "    print(\"Something went wrong\")"
   ]
  },
  {
   "cell_type": "code",
   "execution_count": 3,
   "metadata": {},
   "outputs": [
    {
     "name": "stdout",
     "output_type": "stream",
     "text": [
      "Something went wrong\n",
      "<class 'Exception'>\n"
     ]
    }
   ],
   "source": [
    "try:\n",
    "    a=b/0\n",
    "    f=open(\"SomeFile.txt\",\"r\")\n",
    "except FileNotFoundError:\n",
    "    print(\"File Doesn't exist,Please reupload\")\n",
    "except Exception:\n",
    "    print(\"Something went wrong\")\n",
    "    print(Exception)"
   ]
  },
  {
   "cell_type": "code",
   "execution_count": 4,
   "metadata": {},
   "outputs": [
    {
     "name": "stdout",
     "output_type": "stream",
     "text": [
      "b is not defined\n",
      "<class 'NameError'>\n"
     ]
    }
   ],
   "source": [
    "try:\n",
    "    \n",
    "    a=b\n",
    "except FileNotFoundError:\n",
    "    print(\"File Doesn't exist,Please reupload\")\n",
    "except NameError:\n",
    "    print(\"b is not defined\")\n",
    "    print(NameError)\n",
    "except exception:\n",
    "    print(\"Something went wrong\")\n",
    "    print(Exception)"
   ]
  },
  {
   "cell_type": "code",
   "execution_count": 5,
   "metadata": {},
   "outputs": [
    {
     "name": "stdout",
     "output_type": "stream",
     "text": [
      "Enter your name = S\n",
      "Please enter a valid name\n",
      "It is always there\n"
     ]
    }
   ],
   "source": [
    "try:\n",
    "    \n",
    "    a=input(\"Enter your name = \")\n",
    "    if(len(a)<3):\n",
    "        raise Exception\n",
    "except FileNotFoundError:\n",
    "    print(\"File Doesn't exist,Please reupload\")\n",
    "except NameError:\n",
    "    print(\"b is not defined\")\n",
    "    print(NameError)\n",
    "except Exception:\n",
    "    print(\"Please enter a valid name\")\n",
    "\n",
    "else:\n",
    "    print(\"Try executed without any error\")\n",
    "    print(\"Form Submitted succesfully\")\n",
    "    \n",
    "finally:\n",
    "    print(\"It is always there\")\n",
    "\n",
    "#else block gets executed when there are no exceptions\n",
    "#finally gets executed every time"
   ]
  },
  {
   "cell_type": "code",
   "execution_count": 6,
   "metadata": {},
   "outputs": [
    {
     "name": "stdout",
     "output_type": "stream",
     "text": [
      "Enter your name = Sagar\n",
      "Try executed without any error\n",
      "Form Submitted succesfully\n",
      "It is always there\n"
     ]
    }
   ],
   "source": [
    "try:\n",
    "    \n",
    "    a=input(\"Enter your name = \")\n",
    "    if(len(a)<3):\n",
    "        raise Exception\n",
    "except FileNotFoundError:\n",
    "    print(\"File Doesn't exist,Please reupload\")\n",
    "except NameError:\n",
    "    print(\"b is not defined\")\n",
    "    print(NameError)\n",
    "except Exception:\n",
    "    print(\"Please enter a valid name\")\n",
    "\n",
    "else:\n",
    "    print(\"Try executed without any error\")\n",
    "    print(\"Form Submitted succesfully\")\n",
    "    \n",
    "finally:\n",
    "    print(\"It is always there\")\n",
    "\n",
    "#else block gets executed when there are no exceptions\n",
    "#finally gets executed every time"
   ]
  },
  {
   "cell_type": "code",
   "execution_count": null,
   "metadata": {},
   "outputs": [],
   "source": []
  }
 ],
 "metadata": {
  "kernelspec": {
   "display_name": "Python 3",
   "language": "python",
   "name": "python3"
  },
  "language_info": {
   "codemirror_mode": {
    "name": "ipython",
    "version": 3
   },
   "file_extension": ".py",
   "mimetype": "text/x-python",
   "name": "python",
   "nbconvert_exporter": "python",
   "pygments_lexer": "ipython3",
   "version": "3.7.3"
  }
 },
 "nbformat": 4,
 "nbformat_minor": 2
}
