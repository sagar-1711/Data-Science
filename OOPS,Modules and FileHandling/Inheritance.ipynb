{
 "cells": [
  {
   "cell_type": "code",
   "execution_count": 4,
   "metadata": {},
   "outputs": [
    {
     "name": "stdout",
     "output_type": "stream",
     "text": [
      "Init School Member: Mr.Alpha \n",
      "Init Teacher : Mr.Alpha\n",
      "Name :Mr.Alpha 30\n",
      "Salary : 45000\n",
      "Init School Member: Xyz \n",
      "Init Student Xyz\n",
      "Name :Xyz 20\n",
      "Marks 90\n"
     ]
    }
   ],
   "source": [
    "#Increase reusability of code\n",
    "class SchoolMember:\n",
    "    def __init__(self,name,age):\n",
    "        self.name = name\n",
    "        self.age = age\n",
    "        print(\"Init School Member: %s \"%self.name)\n",
    "        \n",
    "    def introduce(self):\n",
    "        print(\"Name :%s %d\"%(self.name,self.age))\n",
    "        \n",
    "\n",
    "class Teacher(SchoolMember):\n",
    "    def __init__(self,name,age,salary):\n",
    "        SchoolMember.__init__(self,name,age)\n",
    "        self.salary = salary\n",
    "        print(\"Init Teacher : %s\"%self.name)\n",
    "\n",
    "    def introduce(self):\n",
    "        SchoolMember.introduce(self)\n",
    "        print(\"Salary : %d\"%(self.salary))\n",
    "\n",
    "class Student(SchoolMember):\n",
    "    '''Represents a school student'''\n",
    "    def __init__(self,name,age,marks):\n",
    "        SchoolMember.__init__(self,name,age)\n",
    "        self.marks = marks\n",
    "        print(\"Init Student %s\"%(self.name))\n",
    "        \n",
    "    def introduce(self):\n",
    "        SchoolMember.introduce(self)\n",
    "        print(\"Marks %d\"%(self.marks))\n",
    "    \n",
    "\n",
    "t = Teacher(\"Mr.Alpha\",30,45000)\n",
    "t.introduce()\n",
    "\n",
    "s = Student(\"Xyz\",20,90)\n",
    "s.introduce()"
   ]
  },
  {
   "cell_type": "code",
   "execution_count": null,
   "metadata": {},
   "outputs": [],
   "source": []
  }
 ],
 "metadata": {
  "kernelspec": {
   "display_name": "Python 3",
   "language": "python",
   "name": "python3"
  },
  "language_info": {
   "codemirror_mode": {
    "name": "ipython",
    "version": 3
   },
   "file_extension": ".py",
   "mimetype": "text/x-python",
   "name": "python",
   "nbconvert_exporter": "python",
   "pygments_lexer": "ipython3",
   "version": "3.7.3"
  }
 },
 "nbformat": 4,
 "nbformat_minor": 2
}
