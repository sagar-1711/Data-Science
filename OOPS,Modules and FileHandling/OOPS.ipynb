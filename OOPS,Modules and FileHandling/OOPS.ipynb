{
 "cells": [
  {
   "cell_type": "markdown",
   "metadata": {},
   "source": [
    "# OOPS"
   ]
  },
  {
   "cell_type": "code",
   "execution_count": 1,
   "metadata": {},
   "outputs": [],
   "source": [
    "#class is just a blueprint or template ,does not take any memory. Class is just like a new datatupe\n",
    "#object is real entity takes memory"
   ]
  },
  {
   "cell_type": "code",
   "execution_count": 2,
   "metadata": {},
   "outputs": [
    {
     "name": "stdout",
     "output_type": "stream",
     "text": [
      "<__main__.Person object at 0x05F890B0>\n",
      "<class '__main__.Person'>\n"
     ]
    }
   ],
   "source": [
    "class Person():\n",
    "    pass\n",
    "\n",
    "p=Person()\n",
    "print(p)\n",
    "print(type(p))"
   ]
  },
  {
   "cell_type": "code",
   "execution_count": 12,
   "metadata": {},
   "outputs": [],
   "source": [
    "#class consists data members and functions\n",
    "class Person():\n",
    "    #Class variable,common for all pbjects of the same class\n",
    "    nationality=\"Indian\"\n",
    "    def __init__(self,pname,clg):\n",
    "        #Instance Variable.these are different for every object of class\n",
    "        self.name=pname\n",
    "        self.college=clg\n",
    "    def sayHi(self,name):\n",
    "        print(\"Hello\"+name)\n",
    "    def introduce(self):\n",
    "        print(\"My Name is \",self.name)\n",
    "        print(\"I am from\",self.college)\n",
    "        print(\"I am\",self.nationality)\n",
    "\n"
   ]
  },
  {
   "cell_type": "code",
   "execution_count": 13,
   "metadata": {},
   "outputs": [
    {
     "name": "stdout",
     "output_type": "stream",
     "text": [
      "HelloWorld\n",
      "My Name is  Sagar\n",
      "I am from Coding Blocks\n",
      "I am Indian\n"
     ]
    }
   ],
   "source": [
    "p=Person(\"Sagar\",\"Coding Blocks\")\n",
    "p.sayHi(\"World\")\n",
    "p.introduce()"
   ]
  },
  {
   "cell_type": "code",
   "execution_count": 14,
   "metadata": {},
   "outputs": [
    {
     "name": "stdout",
     "output_type": "stream",
     "text": [
      "My Name is  Arnav\n",
      "I am from Micromax\n",
      "I am Indian\n"
     ]
    }
   ],
   "source": [
    "p2=Person(\"Arnav\",\"Micromax\")\n",
    "p2.introduce()"
   ]
  },
  {
   "cell_type": "code",
   "execution_count": 15,
   "metadata": {},
   "outputs": [],
   "source": [
    "class Dog():\n",
    "    \n",
    "    color=\"Brown\"\n",
    "    activities=[]\n",
    "    #This List is common for all objects\n",
    "    \n",
    "    def __init__(self,breed):\n",
    "        self.breed=breed\n",
    "    def addActivity(self,act):\n",
    "        self.activities.append(act)\n",
    "    \n",
    "    def dogInfo(self):\n",
    "        print(self.breed)\n",
    "        print(self.activities)\n",
    "        \n"
   ]
  },
  {
   "cell_type": "code",
   "execution_count": 16,
   "metadata": {},
   "outputs": [
    {
     "name": "stdout",
     "output_type": "stream",
     "text": [
      "German Shepherd\n",
      "['High Jump', 'Roll Over', 'Low Jump', 'Roll Upside Down']\n",
      "Golden Retriever\n",
      "['High Jump', 'Roll Over', 'Low Jump', 'Roll Upside Down']\n"
     ]
    }
   ],
   "source": [
    "d1=Dog(\"German Shepherd\")\n",
    "d1.addActivity(\"High Jump\")\n",
    "d1.addActivity(\"Roll Over\")\n",
    "\n",
    "d2=Dog(\"Golden Retriever\")\n",
    "d2.addActivity(\"Low Jump\")\n",
    "d2.addActivity(\"Roll Upside Down\")\n",
    "\n",
    "\n",
    "d1.dogInfo()\n",
    "d2.dogInfo()"
   ]
  },
  {
   "cell_type": "code",
   "execution_count": 17,
   "metadata": {},
   "outputs": [],
   "source": [
    "class Dog():\n",
    "    \n",
    "    color=\"Brown\"\n",
    "    def __init__(self,breed):\n",
    "        self.activities=[]\n",
    "        self.breed=breed\n",
    "    def addActivity(self,act):\n",
    "        self.activities.append(act)\n",
    "    \n",
    "    def dogInfo(self):\n",
    "        print(self.breed)\n",
    "        print(self.activities)\n",
    "        "
   ]
  },
  {
   "cell_type": "code",
   "execution_count": 18,
   "metadata": {},
   "outputs": [
    {
     "name": "stdout",
     "output_type": "stream",
     "text": [
      "German Shepherd\n",
      "['High Jump', 'Roll Over']\n",
      "Golden Retriever\n",
      "['Low Jump', 'Roll Upside Down']\n"
     ]
    }
   ],
   "source": [
    "d1=Dog(\"German Shepherd\")\n",
    "d1.addActivity(\"High Jump\")\n",
    "d1.addActivity(\"Roll Over\")\n",
    "\n",
    "d2=Dog(\"Golden Retriever\")\n",
    "d2.addActivity(\"Low Jump\")\n",
    "d2.addActivity(\"Roll Upside Down\")\n",
    "\n",
    "\n",
    "d1.dogInfo()\n",
    "d2.dogInfo()"
   ]
  },
  {
   "cell_type": "code",
   "execution_count": 21,
   "metadata": {},
   "outputs": [
    {
     "ename": "AttributeError",
     "evalue": "'Dog' object has no attribute 'secretActivity'",
     "output_type": "error",
     "traceback": [
      "\u001b[1;31m---------------------------------------------------------------------------\u001b[0m",
      "\u001b[1;31mAttributeError\u001b[0m                            Traceback (most recent call last)",
      "\u001b[1;32m<ipython-input-21-eb4dea131546>\u001b[0m in \u001b[0;36m<module>\u001b[1;34m\u001b[0m\n\u001b[0;32m     23\u001b[0m \u001b[0md2\u001b[0m\u001b[1;33m.\u001b[0m\u001b[0maddActivity\u001b[0m\u001b[1;33m(\u001b[0m\u001b[1;34m\"Roll Upside Down\"\u001b[0m\u001b[1;33m)\u001b[0m\u001b[1;33m\u001b[0m\u001b[1;33m\u001b[0m\u001b[0m\n\u001b[0;32m     24\u001b[0m \u001b[1;33m\u001b[0m\u001b[0m\n\u001b[1;32m---> 25\u001b[1;33m \u001b[0md1\u001b[0m\u001b[1;33m.\u001b[0m\u001b[0msecretActivity\u001b[0m\u001b[1;33m(\u001b[0m\u001b[1;33m)\u001b[0m\u001b[1;33m\u001b[0m\u001b[1;33m\u001b[0m\u001b[0m\n\u001b[0m\u001b[0;32m     26\u001b[0m \u001b[0md1\u001b[0m\u001b[1;33m.\u001b[0m\u001b[0mdogInfo\u001b[0m\u001b[1;33m(\u001b[0m\u001b[1;33m)\u001b[0m\u001b[1;33m\u001b[0m\u001b[1;33m\u001b[0m\u001b[0m\n\u001b[0;32m     27\u001b[0m \u001b[0md2\u001b[0m\u001b[1;33m.\u001b[0m\u001b[0msecretActivity\u001b[0m\u001b[1;33m(\u001b[0m\u001b[1;33m)\u001b[0m\u001b[1;33m\u001b[0m\u001b[1;33m\u001b[0m\u001b[0m\n",
      "\u001b[1;31mAttributeError\u001b[0m: 'Dog' object has no attribute 'secretActivity'"
     ]
    }
   ],
   "source": [
    "#By default all class variables and methods are public\n",
    "#private method cannot be accessed directly from outside of class,within class can access\n",
    "class Dog():\n",
    "    \n",
    "    color=\"Brown\"\n",
    "    def __init__(self,breed):\n",
    "        self.activities=[]\n",
    "        self.breed=breed\n",
    "    def addActivity(self,act):\n",
    "        self.activities.append(act)\n",
    "    def __secretActivity(self):\n",
    "        print(\"Doing Secret Activity\",self.breed)\n",
    "    def dogInfo(self):\n",
    "        print(self.breed)\n",
    "        print(self.activities)\n",
    "        \n",
    "d1=Dog(\"German Shepherd\")\n",
    "d1.addActivity(\"High Jump\")\n",
    "d1.addActivity(\"Roll Over\")\n",
    "\n",
    "d2=Dog(\"Golden Retriever\")\n",
    "d2.addActivity(\"Low Jump\")\n",
    "d2.addActivity(\"Roll Upside Down\")\n",
    "\n",
    "d1.secretActivity()\n",
    "d1.dogInfo()\n",
    "d2.secretActivity()\n",
    "d2.dogInfo()"
   ]
  },
  {
   "cell_type": "code",
   "execution_count": 27,
   "metadata": {},
   "outputs": [
    {
     "name": "stdout",
     "output_type": "stream",
     "text": [
      "German Shepherd\n",
      "['High Jump', 'Roll Over']\n",
      "Doing Secret Activity German Shepherd\n",
      "Golden Retriever\n",
      "['Low Jump', 'Roll Upside Down']\n",
      "Doing Secret Activity Golden Retriever\n"
     ]
    }
   ],
   "source": [
    "#By default all class variables and methods are public\n",
    "#private method cannot be accessed directly from outside of class,within class can access\n",
    "class Dog():\n",
    "    \n",
    "    color=\"Brown\"\n",
    "    def __init__(self,breed):\n",
    "        \"\"\"This method accepts the breed of dog and initialises it\"\"\"\n",
    "        self.activities=[]\n",
    "        self.breed=breed\n",
    "    def addActivity(self,act):\n",
    "        self.activities.append(act)\n",
    "    def __secretActivity(self):\n",
    "        print(\"Doing Secret Activity\",self.breed)\n",
    "    def dogInfo(self):\n",
    "        \"\"\"This is regarding dog information\"\"\"\n",
    "        print(self.breed)\n",
    "        print(self.activities)\n",
    "        self.__secretActivity()\n",
    "        \n",
    "d1=Dog(\"German Shepherd\")\n",
    "d1.addActivity(\"High Jump\")\n",
    "d1.addActivity(\"Roll Over\")\n",
    "\n",
    "d2=Dog(\"Golden Retriever\")\n",
    "d2.addActivity(\"Low Jump\")\n",
    "d2.addActivity(\"Roll Upside Down\")\n",
    "\n",
    "d1.dogInfo()\n",
    "d2.dogInfo()"
   ]
  },
  {
   "cell_type": "code",
   "execution_count": 28,
   "metadata": {},
   "outputs": [],
   "source": [
    "Dog?"
   ]
  },
  {
   "cell_type": "code",
   "execution_count": 29,
   "metadata": {},
   "outputs": [],
   "source": [
    "d1.dogInfo?"
   ]
  },
  {
   "cell_type": "code",
   "execution_count": null,
   "metadata": {},
   "outputs": [],
   "source": []
  }
 ],
 "metadata": {
  "kernelspec": {
   "display_name": "Python 3",
   "language": "python",
   "name": "python3"
  },
  "language_info": {
   "codemirror_mode": {
    "name": "ipython",
    "version": 3
   },
   "file_extension": ".py",
   "mimetype": "text/x-python",
   "name": "python",
   "nbconvert_exporter": "python",
   "pygments_lexer": "ipython3",
   "version": "3.7.3"
  }
 },
 "nbformat": 4,
 "nbformat_minor": 2
}
